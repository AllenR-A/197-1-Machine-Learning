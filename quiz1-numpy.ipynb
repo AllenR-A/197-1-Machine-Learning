{
 "cells": [
  {
   "cell_type": "markdown",
   "id": "498b55f7",
   "metadata": {},
   "source": [
    "(imports)"
   ]
  },
  {
   "cell_type": "code",
   "execution_count": 1,
   "id": "f1f5a5c4",
   "metadata": {},
   "outputs": [],
   "source": [
    "%matplotlib inline\n",
    "import numpy as np"
   ]
  },
  {
   "cell_type": "markdown",
   "id": "4887183f",
   "metadata": {},
   "source": [
    "# Part 1\n",
    "### 1.1 Initialize 2 Arrays"
   ]
  },
  {
   "cell_type": "code",
   "execution_count": 2,
   "id": "b66a43cd",
   "metadata": {},
   "outputs": [
    {
     "data": {
      "text/plain": [
       "array([-0.5 , -0.45, -0.4 , -0.35, -0.3 , -0.25, -0.2 , -0.15, -0.1 ,\n",
       "       -0.05,  0.1 ,  0.15,  0.2 ,  0.25,  0.3 ,  0.35,  0.4 ,  0.45,\n",
       "        0.5 ,  0.55])"
      ]
     },
     "execution_count": 2,
     "metadata": {},
     "output_type": "execute_result"
    }
   ],
   "source": [
    "y_hat = np.asarray([-0.5,-0.45,-0.40,-0.35,-0.30,-0.25,-0.20,-0.15,-0.10,-0.05,0.10,0.15,0.20,0.25,0.30,0.35,0.40,0.45,0.50,0.55])\n",
    "y_hat"
   ]
  },
  {
   "cell_type": "code",
   "execution_count": 3,
   "id": "e1d6bded",
   "metadata": {},
   "outputs": [
    {
     "data": {
      "text/plain": [
       "array([0.2  , 0.225, 0.25 , 0.275, 0.3  , 0.325, 0.35 , 0.375, 0.4  ,\n",
       "       0.425, 0.45 , 0.475, 0.5  , 0.525, 0.55 , 0.575, 0.6  , 0.625,\n",
       "       0.65 , 0.675])"
      ]
     },
     "execution_count": 3,
     "metadata": {},
     "output_type": "execute_result"
    }
   ],
   "source": [
    "y = np.asarray([0.2,0.225,0.25,0.275,0.3,0.325,0.35,0.375,0.4,0.425,0.45,0.475,0.5,0.525,0.55,0.575,0.6,0.625,0.65,0.675])\n",
    "y"
   ]
  },
  {
   "cell_type": "markdown",
   "id": "2b222289",
   "metadata": {},
   "source": [
    "### 1.2 Shape & Dimensions"
   ]
  },
  {
   "cell_type": "code",
   "execution_count": 4,
   "id": "19828def",
   "metadata": {},
   "outputs": [
    {
     "data": {
      "text/plain": [
       "(20,)"
      ]
     },
     "execution_count": 4,
     "metadata": {},
     "output_type": "execute_result"
    }
   ],
   "source": [
    "y_hat.shape\n"
   ]
  },
  {
   "cell_type": "code",
   "execution_count": 5,
   "id": "aa08c87c",
   "metadata": {},
   "outputs": [
    {
     "data": {
      "text/plain": [
       "(20,)"
      ]
     },
     "execution_count": 5,
     "metadata": {},
     "output_type": "execute_result"
    }
   ],
   "source": [
    "y.shape"
   ]
  },
  {
   "cell_type": "code",
   "execution_count": 6,
   "id": "25b39fe7",
   "metadata": {},
   "outputs": [
    {
     "data": {
      "text/plain": [
       "1"
      ]
     },
     "execution_count": 6,
     "metadata": {},
     "output_type": "execute_result"
    }
   ],
   "source": [
    "y_hat.ndim"
   ]
  },
  {
   "cell_type": "code",
   "execution_count": 7,
   "id": "5318bdd0",
   "metadata": {},
   "outputs": [
    {
     "data": {
      "text/plain": [
       "1"
      ]
     },
     "execution_count": 7,
     "metadata": {},
     "output_type": "execute_result"
    }
   ],
   "source": [
    "y.ndim"
   ]
  },
  {
   "cell_type": "markdown",
   "id": "84c96d4c",
   "metadata": {},
   "source": [
    "### 1.3 Mean Squared Error (MSE)"
   ]
  },
  {
   "cell_type": "code",
   "execution_count": 8,
   "id": "0cc98490",
   "metadata": {},
   "outputs": [
    {
     "data": {
      "text/plain": [
       "0.20593750000000002"
      ]
     },
     "execution_count": 8,
     "metadata": {},
     "output_type": "execute_result"
    }
   ],
   "source": [
    "def MSE(yhat,y):\n",
    "    if yhat.shape[0]!=y.shape[0]:\n",
    "        return \"Error: Arrays not the same length.\"\n",
    "    return (1/yhat.shape[0])*(np.sum((yhat-y)**2))\n",
    "L = MSE(y_hat,y)\n",
    "L"
   ]
  },
  {
   "cell_type": "markdown",
   "id": "41624438",
   "metadata": {},
   "source": [
    "### 1.4 Mean Absolute Error (MAE)"
   ]
  },
  {
   "cell_type": "code",
   "execution_count": 9,
   "id": "d0365d81",
   "metadata": {},
   "outputs": [
    {
     "data": {
      "text/plain": [
       "0.41250000000000003"
      ]
     },
     "execution_count": 9,
     "metadata": {},
     "output_type": "execute_result"
    }
   ],
   "source": [
    "def MAE(yhat,y):\n",
    "    if yhat.shape[0]!=y.shape[0]:\n",
    "        return \"Error: Arrays not the same length.\"\n",
    "    return (1/yhat.shape[0])*(np.sum(np.absolute(yhat-y)))\n",
    "L = MAE(y_hat,y)\n",
    "L"
   ]
  },
  {
   "cell_type": "markdown",
   "id": "d6162d8f",
   "metadata": {},
   "source": [
    "### 1.5 Mean Squared Logarithmic Error"
   ]
  },
  {
   "cell_type": "code",
   "execution_count": 10,
   "id": "5b3448ab",
   "metadata": {},
   "outputs": [
    {
     "data": {
      "text/plain": [
       "0.21501724837153394"
      ]
     },
     "execution_count": 10,
     "metadata": {},
     "output_type": "execute_result"
    }
   ],
   "source": [
    "def MSLE(yhat,y):\n",
    "    if yhat.shape[0]!=y.shape[0]:\n",
    "        return \"Error: Arrays not the same length.\"\n",
    "    return (1/yhat.shape[0])*(np.sum((np.log(yhat+1)-np.log(y+1))**2))\n",
    "L = MSLE(y_hat,y)\n",
    "L"
   ]
  },
  {
   "cell_type": "markdown",
   "id": "6ef53465",
   "metadata": {},
   "source": [
    "### 1.6 Mean Absolute Percentage Error"
   ]
  },
  {
   "cell_type": "code",
   "execution_count": 11,
   "id": "402fb354",
   "metadata": {},
   "outputs": [
    {
     "data": {
      "text/plain": [
       "1.2470984525886264"
      ]
     },
     "execution_count": 11,
     "metadata": {},
     "output_type": "execute_result"
    }
   ],
   "source": [
    "def MAPE(yhat,y):\n",
    "    if yhat.shape[0]!=y.shape[0]:\n",
    "        return \"Error: Arrays not the same length.\"\n",
    "    return (1/yhat.shape[0])*(np.sum(np.absolute((yhat-y)/y)))\n",
    "L = MAPE(y_hat,y)\n",
    "L"
   ]
  },
  {
   "cell_type": "markdown",
   "id": "76f4973e",
   "metadata": {},
   "source": [
    "# Part 2\n",
    "### 1.1 Initialize 1D Array"
   ]
  },
  {
   "cell_type": "code",
   "execution_count": 12,
   "id": "d82a37a4",
   "metadata": {},
   "outputs": [
    {
     "data": {
      "text/plain": [
       "array([ 1,  2,  3,  4,  5,  6,  7,  8,  9, 10, 11, 12, 13, 14, 15, 16])"
      ]
     },
     "execution_count": 12,
     "metadata": {},
     "output_type": "execute_result"
    }
   ],
   "source": [
    "M = np.arange(1,17)\n",
    "M"
   ]
  },
  {
   "cell_type": "markdown",
   "id": "716f21a0",
   "metadata": {},
   "source": [
    "### 1.2 Reshape Array into 2D"
   ]
  },
  {
   "cell_type": "code",
   "execution_count": 13,
   "id": "3a70687a",
   "metadata": {},
   "outputs": [
    {
     "data": {
      "text/plain": [
       "array([[ 1,  2,  3,  4],\n",
       "       [ 5,  6,  7,  8],\n",
       "       [ 9, 10, 11, 12],\n",
       "       [13, 14, 15, 16]])"
      ]
     },
     "execution_count": 13,
     "metadata": {},
     "output_type": "execute_result"
    }
   ],
   "source": [
    "N = M.reshape(4,4)\n",
    "N"
   ]
  },
  {
   "cell_type": "markdown",
   "id": "b882ee2d",
   "metadata": {},
   "source": [
    "### 1.3 2nd Row"
   ]
  },
  {
   "cell_type": "code",
   "execution_count": 14,
   "id": "7dea6139",
   "metadata": {},
   "outputs": [
    {
     "data": {
      "text/plain": [
       "array([5, 6, 7, 8])"
      ]
     },
     "execution_count": 14,
     "metadata": {},
     "output_type": "execute_result"
    }
   ],
   "source": [
    "R2 = N[1,]\n",
    "R2"
   ]
  },
  {
   "cell_type": "markdown",
   "id": "3df4a709",
   "metadata": {},
   "source": [
    "### 1.4 Minimum values in each column"
   ]
  },
  {
   "cell_type": "code",
   "execution_count": 15,
   "id": "4990f5d4",
   "metadata": {},
   "outputs": [
    {
     "data": {
      "text/plain": [
       "array([1, 2, 3, 4])"
      ]
     },
     "execution_count": 15,
     "metadata": {},
     "output_type": "execute_result"
    }
   ],
   "source": [
    "Min = np.min(N, axis=0)\n",
    "Min"
   ]
  },
  {
   "cell_type": "markdown",
   "id": "440731b8",
   "metadata": {},
   "source": [
    "### 1.5 Location of minimum values in each column\n",
    "    (locateElement supports 1D and 2D Arrays)"
   ]
  },
  {
   "cell_type": "code",
   "execution_count": 16,
   "id": "6eba2981",
   "metadata": {
    "scrolled": true
   },
   "outputs": [
    {
     "name": "stdout",
     "output_type": "stream",
     "text": [
      "1 is located in index 0,0\n",
      "2 is located in index 0,1\n",
      "3 is located in index 0,2\n",
      "4 is located in index 0,3\n"
     ]
    }
   ],
   "source": [
    "def locateElement(element,array):\n",
    "    xnum = array.shape[0]\n",
    "    if array.ndim==1:\n",
    "        for x in range(xnum):\n",
    "            if array[x]==element:\n",
    "                return str(element) + ' is located in index ' + str(x)\n",
    "    elif  array.ndim==2:\n",
    "        ynum = array.shape[1]\n",
    "        for x in range(xnum):\n",
    "            for y in range(ynum):\n",
    "                if array[x,y]==element:\n",
    "                    return str(element) + ' is located in index ' + str(x) + ',' + str(y)\n",
    "\n",
    "for x in Min:\n",
    "    print(locateElement(x,N))"
   ]
  },
  {
   "cell_type": "markdown",
   "id": "f170c5db",
   "metadata": {},
   "source": [
    "### 1.6 Average of the Matrix"
   ]
  },
  {
   "cell_type": "code",
   "execution_count": 17,
   "id": "87bfcdca",
   "metadata": {},
   "outputs": [
    {
     "data": {
      "text/plain": [
       "8.5"
      ]
     },
     "execution_count": 17,
     "metadata": {},
     "output_type": "execute_result"
    }
   ],
   "source": [
    "Avg = np.mean(N)\n",
    "Avg"
   ]
  },
  {
   "cell_type": "markdown",
   "id": "d9a3b69d",
   "metadata": {},
   "source": [
    "### 1.7 New Vector"
   ]
  },
  {
   "cell_type": "code",
   "execution_count": 18,
   "id": "5dda105e",
   "metadata": {},
   "outputs": [
    {
     "data": {
      "text/plain": [
       "array([1, 1, 1, 1])"
      ]
     },
     "execution_count": 18,
     "metadata": {},
     "output_type": "execute_result"
    }
   ],
   "source": [
    "V = np.ones((4,), dtype=int)\n",
    "V"
   ]
  },
  {
   "cell_type": "markdown",
   "id": "75ffd760",
   "metadata": {},
   "source": [
    "### 1.8 Dot Product"
   ]
  },
  {
   "cell_type": "code",
   "execution_count": 19,
   "id": "f3ac5edf",
   "metadata": {},
   "outputs": [
    {
     "data": {
      "text/plain": [
       "array([10, 26, 42, 58])"
      ]
     },
     "execution_count": 19,
     "metadata": {},
     "output_type": "execute_result"
    }
   ],
   "source": [
    "Dprod = np.dot(N,V)\n",
    "Dprod"
   ]
  }
 ],
 "metadata": {
  "kernelspec": {
   "display_name": "Python 3 (ipykernel)",
   "language": "python",
   "name": "python3"
  },
  "language_info": {
   "codemirror_mode": {
    "name": "ipython",
    "version": 3
   },
   "file_extension": ".py",
   "mimetype": "text/x-python",
   "name": "python",
   "nbconvert_exporter": "python",
   "pygments_lexer": "ipython3",
   "version": "3.9.12"
  }
 },
 "nbformat": 4,
 "nbformat_minor": 5
}
